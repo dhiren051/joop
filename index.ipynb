{
 "cells": [
  {
   "cell_type": "markdown",
   "metadata": {},
   "source": [
    "# joop\n",
    "\n",
    "Jupyter notebooks for Python 3.7 and stable Rust.\n",
    "\n",
    "---\n",
    "\n",
    "[GitHub][github] • [Travis][travis] • [Docker Hub][docker]\n",
    "\n",
    " [docker]: https://hub.docker.com/r/naftulikay/joop/\n",
    " [docker.svg]: https://img.shields.io/docker/build/naftulikay/joop.svg\n",
    " [github]: https://github.com/naftulikay/joop\n",
    " [github.svg]: https://img.shields.io/badge/github-source-brightgreen.svg\n",
    " [travis]: https://travis-ci.org/naftulikay/joop\n",
    " [travis.svg]: https://travis-ci.org/naftulikay/joop.svg?branch=master\n"
   ]
  },
  {
   "cell_type": "code",
   "execution_count": null,
   "metadata": {},
   "outputs": [],
   "source": []
  }
 ],
 "metadata": {
  "kernelspec": {
   "display_name": "Python 3",
   "language": "python",
   "name": "python3"
  },
  "language_info": {
   "codemirror_mode": {
    "name": "ipython",
    "version": 3
   },
   "file_extension": ".py",
   "mimetype": "text/x-python",
   "name": "python",
   "nbconvert_exporter": "python",
   "pygments_lexer": "ipython3",
   "version": "3.5.2"
  }
 },
 "nbformat": 4,
 "nbformat_minor": 2
}
